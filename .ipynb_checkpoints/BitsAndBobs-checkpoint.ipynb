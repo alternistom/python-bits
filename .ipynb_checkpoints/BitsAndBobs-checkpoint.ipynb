{
 "cells": [
  {
   "cell_type": "markdown",
   "id": "321f0ee9",
   "metadata": {},
   "source": [
    "# Bits and bobs of useful python stuff by Tamás Fábián\n",
    "---"
   ]
  },
  {
   "cell_type": "markdown",
   "id": "b519feee",
   "metadata": {},
   "source": [
    "## Files\n",
    "---"
   ]
  },
  {
   "cell_type": "markdown",
   "id": "184bbfb5",
   "metadata": {},
   "source": [
    "#### Read txt file line by line into one list"
   ]
  },
  {
   "cell_type": "code",
   "execution_count": null,
   "id": "1e20b747",
   "metadata": {},
   "outputs": [],
   "source": [
    "with open(\"nameofthe.txt\") as f:\n",
    "    lines = [line.rstrip('\\n') for line in f]"
   ]
  },
  {
   "cell_type": "markdown",
   "id": "f6f064a8",
   "metadata": {},
   "source": [
    " "
   ]
  },
  {
   "cell_type": "markdown",
   "id": "8602dd8a",
   "metadata": {},
   "source": [
    "#### Write to txt line by line from list"
   ]
  },
  {
   "cell_type": "code",
   "execution_count": null,
   "id": "3496be04",
   "metadata": {},
   "outputs": [],
   "source": [
    "f = open(\"nameofthe.txt\", \"a\")\n",
    "\n",
    "for line in listToWriteToFile:\n",
    "    f.write(str(line)+\"\\n\")\n",
    "        \n",
    "f.close()"
   ]
  },
  {
   "cell_type": "markdown",
   "id": "11fcb2c0",
   "metadata": {},
   "source": [
    " "
   ]
  },
  {
   "cell_type": "markdown",
   "id": "4ebef3d6",
   "metadata": {},
   "source": [
    " "
   ]
  },
  {
   "cell_type": "markdown",
   "id": "ba87e002",
   "metadata": {},
   "source": [
    " "
   ]
  },
  {
   "cell_type": "markdown",
   "id": "f96a6f21",
   "metadata": {},
   "source": [
    "### List operations\n",
    "---"
   ]
  },
  {
   "cell_type": "markdown",
   "id": "2ee989d1",
   "metadata": {},
   "source": [
    "#### Put the differences between two lists into a new list"
   ]
  },
  {
   "cell_type": "code",
   "execution_count": null,
   "id": "d871792b",
   "metadata": {},
   "outputs": [],
   "source": [
    "biggerList = [1,2,3,4,5,6,7,8,9,10]\n",
    "smallerList = [1,2,9,10]\n",
    "\n",
    "s = set(smallerList)\n",
    "listOfDifferences = [x for x in biggerList if x not in s]\n",
    "\n",
    "# listOfDifferences will be [3,4,5,6,7,8]"
   ]
  },
  {
   "cell_type": "markdown",
   "id": "dce39e1f",
   "metadata": {},
   "source": [
    " "
   ]
  },
  {
   "cell_type": "markdown",
   "id": "cb5b98da",
   "metadata": {},
   "source": [
    " "
   ]
  },
  {
   "cell_type": "markdown",
   "id": "ee3a6a92",
   "metadata": {},
   "source": [
    " "
   ]
  },
  {
   "cell_type": "markdown",
   "id": "78af306a",
   "metadata": {},
   "source": [
    "### Webscraping\n",
    "---"
   ]
  },
  {
   "cell_type": "code",
   "execution_count": null,
   "id": "4e359ccf",
   "metadata": {},
   "outputs": [],
   "source": [
    "import requests\n",
    "from bs4 import BeautifulSoup\n",
    "\n",
    "# You can write literally anything into user-agent, \n",
    "# by the name difference the site will differentiate between incoming requests\n",
    "\n",
    "customheader = {'User-Agent': 'Anything/1.0'}\n",
    "page = requests.get(\"https://www.python.org/\",headers=customheader)\n",
    "\n",
    "# Now we pass the downloaded page's contents to bs4 for parsing\n",
    "soup = BeautifulSoup(page.content)"
   ]
  },
  {
   "cell_type": "code",
   "execution_count": null,
   "id": "9373e170",
   "metadata": {},
   "outputs": [],
   "source": []
  },
  {
   "cell_type": "code",
   "execution_count": null,
   "id": "ab4a5552",
   "metadata": {},
   "outputs": [],
   "source": []
  },
  {
   "cell_type": "code",
   "execution_count": null,
   "id": "7e08e8c4",
   "metadata": {},
   "outputs": [],
   "source": []
  },
  {
   "cell_type": "code",
   "execution_count": null,
   "id": "f921b1f2",
   "metadata": {},
   "outputs": [],
   "source": []
  },
  {
   "cell_type": "code",
   "execution_count": null,
   "id": "f56f0c76",
   "metadata": {},
   "outputs": [],
   "source": []
  },
  {
   "cell_type": "code",
   "execution_count": null,
   "id": "ce14e961",
   "metadata": {},
   "outputs": [],
   "source": []
  }
 ],
 "metadata": {
  "kernelspec": {
   "display_name": "Python 3",
   "language": "python",
   "name": "python3"
  },
  "language_info": {
   "codemirror_mode": {
    "name": "ipython",
    "version": 3
   },
   "file_extension": ".py",
   "mimetype": "text/x-python",
   "name": "python",
   "nbconvert_exporter": "python",
   "pygments_lexer": "ipython3",
   "version": "3.8.6"
  }
 },
 "nbformat": 4,
 "nbformat_minor": 5
}
